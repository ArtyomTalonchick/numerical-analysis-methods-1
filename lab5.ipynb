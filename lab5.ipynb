{
 "cells": [
  {
   "cell_type": "code",
   "execution_count": 1,
   "metadata": {},
   "outputs": [],
   "source": [
    "import numpy as np\n",
    "import matplotlib.pyplot as plt\n",
    "import matplotlib.animation as animation"
   ]
  },
  {
   "cell_type": "markdown",
   "metadata": {},
   "source": [
    "# Задание 1"
   ]
  },
  {
   "cell_type": "markdown",
   "metadata": {},
   "source": [
    "Дано уравнение \n",
    "$$\n",
    "\\frac {\\partial^2 u}{\\partial t^2} = \\frac{E}{\\rho}\\frac {\\partial^2 u}{\\partial x^2},\\ 0\\le t \\le T,\\ 0 \\le x\\le L \n",
    "$$\n",
    "\n",
    "Со следующими начальными и граничными условиями:\n",
    "$$\n",
    "u(0, x) = p(x),\\ \\frac {\\partial u(0, x)}{\\partial t} = q(x),\\ u(t, 0) = 0,\\ u(t, L) = 0\n",
    "$$\n",
    "\n",
    "Аппроксимируем вторую производную следующей схемой\n",
    "$$\n",
    "\\frac {\\partial^2 u}{\\partial x^2} = \\frac {u(x+h) - 2\\cdot u(x) + u(x-h)}{h^2}\n",
    "$$\n",
    "\n",
    "Аппроксимируем 0й слой по формуле Тейлора:\n",
    "\n",
    "$$\n",
    "u_{j}^0 = p_{j}; \n",
    "$$\n",
    "\n",
    "$$\n",
    "u_{j}^1 = u_{j}^0 + \\tau \\cdot \\frac {\\partial u_{j}^0}{\\partial t} + \\frac {\\tau^2}{2} \\frac {\\partial u_{j}^0}{\\partial t^2} = p_{j} + \\tau \\cdot q_{j} + \\frac {\\tau^2 E}{2\\cdot \\rho} \\frac {\\partial^2 u_j}{\\partial x^2} = p_{j} + \\tau \\cdot q_{j} + \\frac {\\tau^2 E}{2\\cdot h_x^2 \\rho} (p_{j+1} - 2\\cdot p_j + p_{j-1});\n",
    "$$\n",
    "\n",
    "$$\n",
    "\\frac {(u_{j}^{i+1} - 2\\cdot u_j^i + u_{j}^{i-1})}{\\tau^2} = \\frac{E}{\\rho} \\frac {(u_{j+1}^i - 2\\cdot u_j^i + u_{j-1}^i)}{h_x^2}\n",
    "$$, отсюда получаем:\n",
    "\n",
    "$$\n",
    "u_{j}^{i+1} = \\frac{\\tau^2 E}{\\rho h_x^2} {(u_{j+1}^i - 2\\cdot u_j^i + u_{j-1}^i)} + 2\\cdot u_j^i - u_{j}^{i-1};\n",
    "$$\n",
    "\n",
    "Порядок точности второй и по $h_x$, и по  $\\tau$. "
   ]
  },
  {
   "cell_type": "code",
   "execution_count": 2,
   "metadata": {},
   "outputs": [],
   "source": [
    "# left_cond, right_cond - boundary condition\n",
    "# p - начальные условия\n",
    "# q - первая производная по t\n",
    "# L - (0, L) по х\n",
    "# N - number of points\n",
    "def task1(L, p, q, N, tau, T, E, ro):\n",
    "    # set steps and steps_amount\n",
    "    Xs = np.linspace(0, L, N)\n",
    "    h = Xs[1] - Xs[0]\n",
    "    t_steps = int(T / tau) + 1\n",
    "    Ts = np.linspace(0, T, t_steps)\n",
    "    tau = Ts[1] - Ts[0]\n",
    "    \n",
    "    size_x = N\n",
    "    size_t = t_steps\n",
    "    \n",
    "    # create matrix for answers\n",
    "    matrix = np.zeros(shape=(t_steps, N))\n",
    "\n",
    "    # boundary condition = zeros \n",
    "    matrix[0, 1:-1] = [p(Xs[i]) for i in range(1, len(Xs) - 1)]\n",
    "    \n",
    "    # coefficient\n",
    "    coefficient = (tau**2 * E) / (ro * h**2)\n",
    "    coefs = [coefficient, -2 * coefficient, coefficient]\n",
    "    \n",
    "    # first layer   \n",
    "    matrix[1, 1:-1] = matrix[0, 1:-1] + tau * q(Xs[1:-1]) + sum(coefs[i] * matrix[0, i:size_x-2+i] for i in range(3)) / 2\n",
    "    \n",
    "    for t in range(2, t_steps):\n",
    "        matrix[t, 1:-1] = (sum(coefs[i] * matrix[t - 1, i:len(matrix[0])-2+i] for i in range(3))\n",
    "                               + 2 * matrix[t - 1, 1:-1] - matrix[t - 2, 1:-1])\n",
    "        \n",
    "    \n",
    "    return matrix"
   ]
  },
  {
   "cell_type": "code",
   "execution_count": 3,
   "metadata": {},
   "outputs": [],
   "source": [
    "# initial condition\n",
    "L = 18\n",
    "delta_u = 0.2\n",
    "p = lambda x: -4 * delta_u / (L ** 2) * x ** 2  + 4*delta_u / L * x\n",
    "q = lambda x: 0\n",
    "ro = 5.9e5\n",
    "E = 120e9\n",
    "tau = 1e-4\n",
    "T = 1e-1\n",
    "N = 100"
   ]
  },
  {
   "cell_type": "code",
   "execution_count": 4,
   "metadata": {},
   "outputs": [],
   "source": [
    "x_1 = np.linspace(0, L, N)\n",
    "matrix1 = task1(L, p, q, N, tau, T, E, ro)"
   ]
  },
  {
   "cell_type": "code",
   "execution_count": 5,
   "metadata": {},
   "outputs": [
    {
     "data": {
      "image/png": "[encoded data removed]",
      "text/plain": [
       "<Figure size 432x288 with 1 Axes>"
      ]
     },
     "metadata": {
      "needs_background": "light"
     },
     "output_type": "display_data"
    }
   ],
   "source": [
    "plt.style.use('seaborn-pastel')\n",
    "fig = plt.figure()\n",
    "ax = plt.axes(xlim=(0, 18), ylim=(-0.2, 0.2))\n",
    "line, = ax.plot([], [], lw=3)\n",
    "\n",
    "def init():\n",
    "    line.set_data([], [])\n",
    "    return line,\n",
    "\n",
    "def animate(i):\n",
    "    line.set_data(x_1, matrix1[i % len(matrix1)])\n",
    "    return line,\n",
    " \n",
    "anim = animation.FuncAnimation(fig, animate, init_func=init,\n",
    "                               frames=800, interval=10, blit=True)\n",
    "  \n",
    "anim.save('lab5_task1.mp4', writer='ffmpeg')"
   ]
  },
  {
   "cell_type": "markdown",
   "metadata": {},
   "source": [
    "# Задание 2"
   ]
  },
  {
   "cell_type": "markdown",
   "metadata": {},
   "source": [
    "Дано волновое уравнение\n",
    "$$\n",
    "\\frac {\\partial^2 u}{\\partial t^2} = (\\frac {\\partial^2 u}{\\partial x^2} + \\frac {\\partial^2 u}{\\partial y^2}),\\ 0 \\le t \\le T,\\ -\\frac a 2 \\le x \\le \\frac a 2,\\ -\\frac b 2 \\le y \\le \\frac b 2\n",
    "$$\n",
    "\n",
    "Со следующими начальными и граничными условиями:\n",
    "$$\n",
    "u(0, x, y) = p(x, y),\\ \\frac {\\partial u(0, x, y)}{\\partial t} = q(x, y),\\ u(t, -\\frac a 2 , y) = 0,\\ u(t, \\frac a 2 , y) = 0,\\ \\frac {\\partial u(t, x, -\\frac b 2 )}{\\partial y} = 0,\\ \\frac {\\partial u(t, x, \\frac b 2 )}{\\partial y} = 0\n",
    "$$\n",
    "\n",
    "Аппроксимируем вторую производную следующей схемой\n",
    "$$\n",
    "\\frac {\\partial^2 u}{\\partial x^2} = \\frac {u(x+h) - 2\\cdot u(x) + u(x-h)}{h^2}\n",
    "$$\n",
    "\n",
    "Формулы для расчетов следующие:\n",
    "\n",
    "$$\n",
    "u_{j,k}^0 = p_{j,k}; \n",
    "$$\n",
    "\n",
    "$$\n",
    "u_{j,k}^1 = u_{j,k}^0 + \\tau \\cdot \\frac {\\partial u_{j,k}^0}{\\partial t} + \\frac {\\tau^2}{2} \\frac {\\partial u_{j,k}^0}{\\partial t^2} = p_{j, k} + \\tau \\cdot q_{j, k} + \\frac {\\tau^2}{2} (\\frac {\\partial^2 u_{j,k}}{\\partial x^2} + \\frac {\\partial^2 u_{j,k}}{\\partial y^2}) = p_{j, k} + \\tau \\cdot q_{j, k} + \\frac {\\tau^2}{2} (\\frac {p_{j+1, k} - 2\\cdot p_{j, k} + p_{j-1, k}} {h_x^2} + \\frac {p_{j, k+1} - 2\\cdot p_{j, k} + p_{j, k-1}} {h_y^2});\n",
    "$$\n",
    "\n",
    "$$\n",
    "\\frac {u^{i+1}_{j,k} - 2\\cdot u^i_{j,k} + u^{i-1}_{j,k}}{\\tau ^2} = \\frac{u^{i}_{j+1, k} - 2\\cdot u^i_{j,k} + u^{i}_{j-1, k}}{h_x^2} + \\frac{u^{i}_{j, k+1} - 2\\cdot u^i_{j,k} + u^{i}_{j, k-1}}{h_y^2}\n",
    "$$, отсюда получаем:\n",
    "\n",
    "$$\n",
    "u^{i+1}_{j,k} = \\frac{\\tau^2}{h_x^2} (u^{i}_{j+1, k} - 2\\cdot u^i_{j,k} + u^{i}_{j-1, k}) + \\frac{\\tau^2}{h_y^2} (u^{i}_{j, k+1} - 2\\cdot u^i_{j,k} + u^{i}_{j, k-1}) + 2\\cdot u^i_{j,k} - u^{i-1}_{j,k};\n",
    "$$\n",
    "\n",
    "$$\n",
    "u_{j,K}^i = u_{j,K-1}^i;\n",
    "$$\n",
    "\n",
    "$$\n",
    "u_{j,0}^i = u_{j,1}^i;\n",
    "$$"
   ]
  },
  {
   "cell_type": "code",
   "execution_count": 32,
   "metadata": {},
   "outputs": [],
   "source": [
    "def task2(a, b, p, q, n_x, n_y, tau, T, ro):\n",
    "    # set steps and steps_amount\n",
    "    Xs = np.linspace(-a/2, a/2, n_x)\n",
    "    h_x = Xs[1] - Xs[0]\n",
    "    Ys = np.linspace(-b/2, b/2, n_y)\n",
    "    h_y = Ys[1] - Ys[0]\n",
    "    n_t = int(T / tau) + 1\n",
    "    Ts = np.linspace(0, T, n_t)\n",
    "    tau = Ts[1] - Ts[0]\n",
    "    \n",
    "    # create matrix for answers\n",
    "    matrix = np.zeros(shape=(n_t, n_x, n_y))\n",
    "    \n",
    "    xs, ys = np.meshgrid(Xs, Ys)\n",
    "\n",
    "    # boundary condition = zeros     \n",
    "    matrix[0, :, :] = p(xs, ys)\n",
    "    \n",
    "    # coefficient\n",
    "    coefficient = tau**2\n",
    "    coefs = [coefficient, -2 * coefficient, coefficient]\n",
    "    \n",
    "    # first layer    \n",
    "    matrix[1, 1:-1, 1:-1] = (\n",
    "            matrix[0, 1:-1, 1:-1] + tau * q(xs[1:-1, 1:-1], ys[1:-1, 1:-1])\n",
    "            + sum(coefs[i] * matrix[0, i:n_x-2+i, 1:-1] for i in range(3)) / (2 * h_x**2)\n",
    "            + sum(coefs[i] * matrix[0, 1:-1, i:n_y-2+i] for i in range(3)) / (2 * h_y**2)\n",
    "        )\n",
    "    \n",
    "    matrix[1, 0, 1:-1] = matrix[0, 1, 1:-1]\n",
    "    matrix[1, -1, 1:-1] = matrix[0,-2, 1:-1]\n",
    "\n",
    "    \n",
    "\n",
    "    for t in range(2, n_t):\n",
    "        matrix[t, 1:-1, 1:-1] = (\n",
    "            2 * matrix[t - 1, 1:-1, 1:-1] - matrix[t - 2, 1:-1, 1:-1]\n",
    "            + sum(coefs[i] * matrix[t - 1, i:n_x-2+i, 1:-1] for i in range(3)) / h_x**2\n",
    "            + sum(coefs[i] * matrix[t - 1, 1:-1, i:n_y-2+i] for i in range(3)) / h_y**2\n",
    "        )\n",
    "        matrix[t, 0] = matrix[t, 1]\n",
    "        matrix[t, -1] = matrix[t, -2]\n",
    "\n",
    "    return matrix"
   ]
  },
  {
   "cell_type": "code",
   "execution_count": 33,
   "metadata": {},
   "outputs": [],
   "source": [
    "a = 2\n",
    "b = 1\n",
    "p = lambda x, y: np.arctan(np.cos(np.pi*x/a))\n",
    "q = lambda x, y: np.sin(2*np.pi*x/a)*np.sin(2*np.pi*y/b)\n",
    "\n",
    "n_x = 100\n",
    "n_y = 100\n",
    "\n",
    "tau = 0.001\n",
    "T = 4"
   ]
  },
  {
   "cell_type": "code",
   "execution_count": 34,
   "metadata": {},
   "outputs": [],
   "source": [
    "matrix2 = task2(a, b, p, q, n_x, n_y, tau, T, ro)"
   ]
  },
  {
   "cell_type": "code",
   "execution_count": 37,
   "metadata": {},
   "outputs": [
    {
     "data": {
      "image/png": "[encoded data removed]",
      "text/plain": [
       "<Figure size 432x288 with 1 Axes>"
      ]
     },
     "metadata": {
      "needs_background": "light"
     },
     "output_type": "display_data"
    }
   ],
   "source": [
    "fig = plt.figure()\n",
    "extent = -a/2, a/2, -b/2, b/2\n",
    "ims = []\n",
    "\n",
    "for layer in matrix2:\n",
    "    ims.append([plt.imshow(layer, animated=True, cmap=plt.cm.coolwarm, vmin=-.84, vmax=.84, extent=extent)])\n",
    "\n",
    "ani = animation.ArtistAnimation(fig, ims, interval=20, blit=True,\n",
    "                                repeat_delay=100)\n",
    "\n",
    "ani.save(\"lab5_task2.mp4\", writer='ffmpeg')"
   ]
  },
  {
   "cell_type": "code",
   "execution_count": null,
   "metadata": {},
   "outputs": [],
   "source": []
  }
 ],
 "metadata": {
  "kernelspec": {
   "display_name": "Python 3",
   "language": "python",
   "name": "python3"
  },
  "language_info": {
   "codemirror_mode": {
    "name": "ipython",
    "version": 3
   },
   "file_extension": ".py",
   "mimetype": "text/x-python",
   "name": "python",
   "nbconvert_exporter": "python",
   "pygments_lexer": "ipython3",
   "version": "3.7.3"
  }
 },
 "nbformat": 4,
 "nbformat_minor": 2
}
