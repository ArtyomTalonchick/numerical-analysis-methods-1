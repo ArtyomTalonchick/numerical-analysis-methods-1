{
 "cells": [
  {
   "cell_type": "code",
   "execution_count": 1,
   "metadata": {},
   "outputs": [],
   "source": [
    "import time\n",
    "import numpy as np\n",
    "import sympy as sp\n",
    "import matplotlib.pyplot as plt\n",
    "from prettytable import PrettyTable"
   ]
  },
  {
   "cell_type": "code",
   "execution_count": 2,
   "metadata": {},
   "outputs": [],
   "source": [
    "x, d = sp.symbols('x d')\n",
    "bounds = [-1, 1]"
   ]
  },
  {
   "cell_type": "markdown",
   "metadata": {},
   "source": [
    "# РЕШЕНИЕ КРАЕВЫХ ЗАДАЧ МЕТОДОМ РАЗНОСТНЫХ АППРОКСИМАЦИЙ"
   ]
  },
  {
   "cell_type": "markdown",
   "metadata": {},
   "source": [
    "## Теория\n",
    "\n",
    "Рассматриваем уравнение вида:\n",
    "\n",
    "$$\n",
    "t(x)\\cdot y'' + p(x) \\cdot y' + q(x) \\cdot y = f(x)\n",
    "$$\n",
    "\n",
    "$$\n",
    "t(x), p(x), q(x), f(x) - непрерывные \\ на\\  отрезке\\  [a, b]\\ функции\n",
    "$$\n",
    "\n",
    "### Условия для базисной системы\n",
    "\n",
    "1. $\\phi_{0}$ удовлетворяет граничному условию\n",
    "2. функции $\\phi_{1}(x), ..., \\phi_{n}(x)$ - линейно независимы на [a, b] и удовлетворяют однородным граничным условиям\n",
    "\n",
    "Тогда по базисным функция строим приближенное решение в виде линейной комбинации базисный функций:\n",
    "\n",
    "$$\n",
    "y_{n} = a_{0}\\cdot\\phi_{0}(x) + a_{1}\\cdot \\phi_{1}(x) + ... + a_{n} \\cdot \\phi_{n}(x)\n",
    "$$\n",
    "\n",
    "Задача сводится к выбору $a_{1}, ..., a_{n}$ таких, чтобы $y_{n}(x)$ удовлетворяла граничному условию и приближалась к граничному решению.\n",
    "\n",
    "Выражение:\n",
    "\n",
    "$$\n",
    "\\psi(x, a_{1}, ..., a_{n}) = t(x) \\cdot y_{n}(x)'' + p(x) \\cdot y_{n}(x)' + q(x) \\cdot y_{n}(x) - f(x)\n",
    "$$\n",
    "\n",
    "Называется невязкой"
   ]
  },
  {
   "cell_type": "markdown",
   "metadata": {},
   "source": [
    "### Базисные функции вида:\n",
    "\n",
    "$$\n",
    "\\phi_i = x^{i} \\cdot (1 - x^2)\n",
    "$$"
   ]
  },
  {
   "cell_type": "markdown",
   "metadata": {},
   "source": [
    "###  Значение коэффициентов $a_i$ в невязке\n",
    "\n",
    "Значение коэффициентов в матрице может быть найдена по следующей формуле:\n",
    "\n",
    "$$\n",
    "a_i = t(x) \\cdot \\phi_i'' + p(x) \\cdot \\phi_i' + q(x) \\cdot \\phi_i\n",
    "$$\n",
    "\n",
    "Свободные члены можно найти по следующей формуле:\n",
    "\n",
    "$$\n",
    "b_i = f(x)\n",
    "$$"
   ]
  },
  {
   "cell_type": "code",
   "execution_count": 3,
   "metadata": {},
   "outputs": [],
   "source": [
    "base_expr = x**d * (1 - x**2)\n",
    "base_func = sp.lambdify((x, d), base_expr)\n",
    "ai_expr = 0\n",
    "ai = 0"
   ]
  },
  {
   "cell_type": "code",
   "execution_count": 4,
   "metadata": {},
   "outputs": [],
   "source": [
    "t = sp.lambdify(x, 1)\n",
    "p = sp.lambdify(x, 0)\n",
    "q = sp.lambdify(x, 1 + x**2)\n",
    "f = sp.lambdify(x, -1)"
   ]
  },
  {
   "cell_type": "markdown",
   "metadata": {},
   "source": [
    "## Способы решение краевой задачи"
   ]
  },
  {
   "cell_type": "markdown",
   "metadata": {},
   "source": [
    "### Метод коллокаций"
   ]
  },
  {
   "cell_type": "markdown",
   "metadata": {},
   "source": [
    "На отрезке $[a, b]$ выбирается $m$ точек $x_{1}, ..., x_{n}$ $(m \\geq n)$\n",
    "\n",
    "Эти точки последовательно подставляются в невязку, считаю, что она должна быть равна `0`\n",
    "\n",
    "Обычно берётся `m = n` и решается система из `n` уравнений и `n` неизвестных"
   ]
  },
  {
   "cell_type": "markdown",
   "metadata": {},
   "source": [
    "#### Формулы\n",
    "\n",
    "Каждый элемент матрицы может просто найди, используя формулы для нахождения $a_i$:\n",
    "\n",
    "\n",
    "$ matrix_{i, j} = a_j(x_i) $, где $x_i$ - $i$-я точка\n",
    "\n",
    "А вектор свободных членов:\n",
    "\n",
    "$ b_i = f(x_i) $"
   ]
  },
  {
   "cell_type": "code",
   "execution_count": 5,
   "metadata": {},
   "outputs": [],
   "source": [
    "def collacation_method(n):\n",
    "    # b in general\n",
    "    expr = f(x)\n",
    "    bi = sp.lambdify(x, expr)\n",
    "    xs = np.linspace(*bounds, n + 2 + n % 2)[1:-1 - n % 2]\n",
    "#     xs = np.linspace(*bounds, n + 2)[1:-1]\n",
    "    matrix = np.zeros(shape=(n, n))\n",
    "    b = np.zeros(shape=(n, 1))\n",
    "    for i in range(n):\n",
    "        for j in range(n):\n",
    "            matrix[i][j] = ai(xs[i], j)\n",
    "        b[i] = bi(xs[i])\n",
    "    return np.linalg.solve(matrix, b)"
   ]
  },
  {
   "cell_type": "markdown",
   "metadata": {},
   "source": [
    "### Дискретный МНК"
   ]
  },
  {
   "cell_type": "markdown",
   "metadata": {},
   "source": [
    "Выбирается $N > n$ точек и решается задача минимизации:\n",
    "\n",
    "$$\n",
    "S = \\sum_{i=1}^{N}\\psi^2(x_i, a_1, ..., a_n)\n",
    "$$\n",
    "\n",
    "Для её решение решается система:\n",
    "\n",
    "$$\n",
    "\\frac{dS}{d a_1} = 0\n",
    "$$\n",
    "$$\n",
    ".......\n",
    "$$\n",
    "$$\n",
    "\\frac{dS}{d a_n} = 0\n",
    "$$"
   ]
  },
  {
   "cell_type": "markdown",
   "metadata": {},
   "source": [
    "#### Формулы\n",
    "\n",
    "В результате возведения в квадрат и взятия производной коэффициенты в матрицы могут быть найдены по следующей формуле:\n",
    "\n",
    "$$\n",
    "matrix_{i, j} = \\sum_{p = 0}^{pointsAmount} a_i(x_p) \\cdot a_j(x_p)\n",
    "$$\n",
    "\n",
    "А вектор свободных членов:\n",
    "\n",
    "$$\n",
    "b_i = \\sum_{p = 0}^{pointsAmount} a_i(x_p) \\cdot f(x_p)\n",
    "$$"
   ]
  },
  {
   "cell_type": "code",
   "execution_count": 6,
   "metadata": {},
   "outputs": [],
   "source": [
    "def discrete_LSM_method(n):\n",
    "    points_amount = int(input('Количество точек для дискретного МНК: '))\n",
    "    points = np.linspace(*bounds, points_amount + points_amount % 2)\n",
    "    expr = ai_expr * f(x)\n",
    "    bi = sp.lambdify((x, d), expr)\n",
    "    \n",
    "    matrix = np.zeros(shape=(n, n))\n",
    "    b = np.zeros(shape=(n, 1))\n",
    "    \n",
    "    # fill a half of matrix\n",
    "    for i in range(n):\n",
    "        for j in range(i + 1):\n",
    "            matrix[i][j] = sum(ai(p, i) * ai(p, j) for p in points)\n",
    "        b[i] = sum(bi(p, i) for p in points)\n",
    "    \n",
    "    # copy values for another half of matrix\n",
    "    for i in range(n):\n",
    "        for j in range(n-1, i, -1):\n",
    "            matrix[i][j] = matrix[j][i]\n",
    "\n",
    "    return np.linalg.solve(matrix, b)"
   ]
  },
  {
   "cell_type": "markdown",
   "metadata": {},
   "source": [
    "### Метод Галёркина"
   ]
  },
  {
   "cell_type": "markdown",
   "metadata": {},
   "source": [
    "Рассматриваем невязку $\\psi$ и для определения коэффициентов $a_1, ..., a_n$ решаем систему:\n",
    "\n",
    "\n",
    "$$\n",
    "\\int_a^b\\psi(x, a_1, ..., a_n)\\cdot \\psi_1(x)dx = 0\n",
    "$$\n",
    "$$\n",
    "................................\n",
    "$$\n",
    "$$\n",
    "\\int_a^b\\psi(x, a_1, ..., a_n)\\cdot \\psi_n(x)dx = 0\n",
    "$$\n"
   ]
  },
  {
   "cell_type": "markdown",
   "metadata": {},
   "source": [
    "#### Формулы\n",
    "\n",
    "Коэффициенты для каждого элемента матрицы можно найти по следующей формуле:\n",
    "\n",
    "$$\n",
    "matrix_{i,j} = \\int_a^b a_j(x) \\cdot \\phi_i(x) dx\n",
    "$$\n",
    "\n",
    "Интегрировать будем численным интегрированием, используя метод трапеций из $numpy$\n",
    "\n",
    "Вектор свободных членов можно найти так:\n",
    "\n",
    "$$\n",
    "b_i = \\int_a^b f(x) \\cdot \\phi_i(x) dx\n",
    "$$"
   ]
  },
  {
   "cell_type": "code",
   "execution_count": 7,
   "metadata": {},
   "outputs": [],
   "source": [
    "def galerkin_method(n):\n",
    "    d1, d2 = sp.symbols('d1 d2')\n",
    "    expr = ai(x, d1) * base_func(x, d2)\n",
    "    func = sp.lambdify((x, d1, d2), expr)\n",
    "    \n",
    "    bi_expr = base_func(x, d) * f(x)\n",
    "    bi = sp.lambdify((x, d), bi_expr)\n",
    "    \n",
    "    matrix = np.zeros(shape=(n, n))\n",
    "    b = np.zeros(shape=(n, 1))\n",
    "    \n",
    "    points = np.linspace(*bounds, 100)\n",
    "    for i in range(n):\n",
    "        for j in range(n):\n",
    "            matrix[i][j] = np.trapz(np.array([func(p, j, i) for p in points]))\n",
    "        b[i] = np.trapz(np.array([bi(p, i) for p in points]))\n",
    "        \n",
    "    return np.linalg.solve(matrix, b)"
   ]
  },
  {
   "cell_type": "markdown",
   "metadata": {},
   "source": [
    "# Solver"
   ]
  },
  {
   "cell_type": "code",
   "execution_count": 8,
   "metadata": {},
   "outputs": [],
   "source": [
    "def solver(tt, pp, qq, ff):\n",
    "    n = int(input('Количество базисных функций: '))\n",
    "    # functions to solve\n",
    "    solvers = [collacation_method, discrete_LSM_method, galerkin_method]\n",
    "    # basics\n",
    "    global t, p, q, f, ai, ai_expr\n",
    "    t = sp.lambdify(x, tt)\n",
    "    p = sp.lambdify(x, pp)\n",
    "    q = sp.lambdify(x, qq)\n",
    "    f = sp.lambdify(x, ff)\n",
    "    ai_expr = t(x) * sp.diff(base_expr, x, x) + p(x) * sp.diff(base_expr, x) + q(x) * base_expr\n",
    "    ai = sp.lambdify((x, d), ai_expr)\n",
    "    \n",
    "    table = PrettyTable()\n",
    "    table.field_names = ['Method', 'Max y', 'Time']\n",
    "    for num, func in enumerate(solvers):\n",
    "        start = time.time()\n",
    "        ans = func(n)\n",
    "        end = time.time()\n",
    "        expr = 0\n",
    "        for i in range(len(ans)):\n",
    "            expr += ans[i] * (x**(i) - x**(i+2))\n",
    "        func = sp.lambdify(x, expr)\n",
    "        xs = np.linspace(*bounds)\n",
    "        ys = np.array([func(xi) for xi in xs])\n",
    "        plt.plot(xs, ys, label=solvers[num].__name__)\n",
    "        \n",
    "        table.add_row([\n",
    "            solvers[num].__name__, \n",
    "            round(max(abs(ys))[0], 3), \n",
    "            round(end - start, 3)\n",
    "        ])\n",
    "        \n",
    "    print(table)\n",
    "        \n",
    "    plt.grid()\n",
    "    plt.legend()\n",
    "    plt.show()"
   ]
  },
  {
   "cell_type": "code",
   "execution_count": 10,
   "metadata": {
    "scrolled": false
   },
   "outputs": [
    {
     "name": "stdout",
     "output_type": "stream",
     "text": [
      "Количество базисных функций: 100\n",
      "Количество точек для дискретного МНК: 500\n",
      "+---------------------+-------+--------+\n",
      "|        Method       | Max y |  Time  |\n",
      "+---------------------+-------+--------+\n",
      "|  collacation_method | 1.109 | 0.037  |\n",
      "| discrete_LSM_method | 1.109 | 17.822 |\n",
      "|   galerkin_method   | 1.109 | 3.859  |\n",
      "+---------------------+-------+--------+\n"
     ]
    },
    {
     "data": {
      "image/png": "[encoded data removed]",
      "text/plain": [
       "<Figure size 432x288 with 1 Axes>"
      ]
     },
     "metadata": {
      "needs_background": "light"
     },
     "output_type": "display_data"
    }
   ],
   "source": [
    "solver(np.sin(2), 0, 1 + np.sin(2) * x**2, -1)"
   ]
  },
  {
   "cell_type": "markdown",
   "metadata": {},
   "source": [
    "#### Helper functions"
   ]
  },
  {
   "cell_type": "code",
   "execution_count": 47,
   "metadata": {},
   "outputs": [],
   "source": [
    "def plot_solution(ai):\n",
    "    expr = 0\n",
    "    for i in range(len(ai)):\n",
    "        expr += ai[i] * (x**(i) - x**(i+2))\n",
    "    func = sp.lambdify(x, expr)\n",
    "    xs = np.linspace(*bounds)\n",
    "    ys = np.array([func(xi) for xi in xs])\n",
    "    print(max(abs(ys)))\n",
    "    plt.plot(xs, ys)\n",
    "    plt.grid()\n",
    "    plt.show()\n",
    "    "
   ]
  },
  {
   "cell_type": "code",
   "execution_count": null,
   "metadata": {},
   "outputs": [],
   "source": []
  },
  {
   "cell_type": "code",
   "execution_count": null,
   "metadata": {},
   "outputs": [],
   "source": []
  }
 ],
 "metadata": {
  "kernelspec": {
   "display_name": "Python 3",
   "language": "python",
   "name": "python3"
  },
  "language_info": {
   "codemirror_mode": {
    "name": "ipython",
    "version": 3
   },
   "file_extension": ".py",
   "mimetype": "text/x-python",
   "name": "python",
   "nbconvert_exporter": "python",
   "pygments_lexer": "ipython3",
   "version": "3.7.3"
  }
 },
 "nbformat": 4,
 "nbformat_minor": 2
}
